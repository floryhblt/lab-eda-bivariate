{
 "cells": [
  {
   "cell_type": "code",
   "execution_count": 1,
   "id": "6c8f399b-6b23-462c-9ae5-5e26a4b7ecc4",
   "metadata": {},
   "outputs": [],
   "source": [
    "import pandas as pd\n",
    "import matplotlib.pyplot as plt\n",
    "import seaborn as sns\n",
    "import numpy as np\n",
    "from scipy.stats import chi2_contingency\n",
    "from scipy.stats.contingency import association\n",
    "\n",
    "\n",
    "\n",
    "%matplotlib inline"
   ]
  },
  {
   "cell_type": "code",
   "execution_count": 2,
   "id": "47198a4a-0601-4d9e-9ce1-edea70f56bfb",
   "metadata": {},
   "outputs": [],
   "source": [
    "df = pd.read_csv(\"amz_uk_price_prediction_dataset.csv\")"
   ]
  },
  {
   "cell_type": "code",
   "execution_count": 3,
   "id": "04f45d2e-a02c-41fa-87ec-a77b8bcaf415",
   "metadata": {},
   "outputs": [
    {
     "name": "stdout",
     "output_type": "stream",
     "text": [
      "   uid        asin                                              title  stars  \\\n",
      "0    1  B09B96TG33  Echo Dot (5th generation, 2022 release) | Big ...    4.7   \n",
      "1    2  B01HTH3C8S  Anker Soundcore mini, Super-Portable Bluetooth...    4.7   \n",
      "2    3  B09B8YWXDF  Echo Dot (5th generation, 2022 release) | Big ...    4.7   \n",
      "3    4  B09B8T5VGV  Echo Dot with clock (5th generation, 2022 rele...    4.7   \n",
      "4    5  B09WX6QD65  Introducing Echo Pop | Full sound compact Wi-F...    4.6   \n",
      "\n",
      "   reviews  price  isBestSeller  boughtInLastMonth        category  \n",
      "0    15308  21.99         False                  0  Hi-Fi Speakers  \n",
      "1    98099  23.99          True                  0  Hi-Fi Speakers  \n",
      "2    15308  21.99         False                  0  Hi-Fi Speakers  \n",
      "3     7205  31.99         False                  0  Hi-Fi Speakers  \n",
      "4     1881  17.99         False                  0  Hi-Fi Speakers  \n",
      "uid                    int64\n",
      "asin                  object\n",
      "title                 object\n",
      "stars                float64\n",
      "reviews                int64\n",
      "price                float64\n",
      "isBestSeller            bool\n",
      "boughtInLastMonth      int64\n",
      "category              object\n",
      "dtype: object\n",
      "(2443651, 9)\n"
     ]
    }
   ],
   "source": [
    "print(df.head())\n",
    "print(df.dtypes)\n",
    "print(df.shape)"
   ]
  },
  {
   "cell_type": "code",
   "execution_count": 4,
   "id": "f1c6c921-7c37-4882-9809-9e9e72008ad3",
   "metadata": {},
   "outputs": [
    {
     "name": "stdout",
     "output_type": "stream",
     "text": [
      "stars\n",
      "0.0    1225641\n",
      "4.5     151577\n",
      "4.6     136995\n",
      "4.4     136165\n",
      "5.0     128492\n",
      "4.3     112564\n",
      "4.7      94566\n",
      "4.2      86871\n",
      "4.0      66089\n",
      "4.1      65115\n",
      "4.8      41858\n",
      "3.9      36555\n",
      "3.8      27876\n",
      "3.7      21137\n",
      "3.6      16219\n",
      "3.5      14673\n",
      "3.0      12819\n",
      "4.9      11081\n",
      "3.4      10355\n",
      "1.0       8484\n",
      "3.3       8269\n",
      "3.2       5771\n",
      "3.1       4679\n",
      "2.0       3901\n",
      "2.9       3341\n",
      "2.8       2306\n",
      "2.7       2104\n",
      "2.5       2103\n",
      "2.6       1579\n",
      "2.4       1060\n",
      "2.3        734\n",
      "2.2        602\n",
      "2.1        540\n",
      "1.5        404\n",
      "1.9        300\n",
      "1.8        249\n",
      "1.7        177\n",
      "1.4        149\n",
      "1.6        147\n",
      "1.3         78\n",
      "1.2         23\n",
      "1.1          3\n",
      "Name: count, dtype: int64\n",
      "isBestSeller\n",
      "False    2435671\n",
      "True        7980\n",
      "Name: count, dtype: int64\n"
     ]
    }
   ],
   "source": [
    "print(df['stars'].value_counts())\n",
    "print(df['isBestSeller'].value_counts())\n",
    "\n",
    "frequency_table = df['category'].value_counts().head(5)"
   ]
  },
  {
   "cell_type": "code",
   "execution_count": 5,
   "id": "bc5a7c00-ff20-4c1a-8ab8-bec3a446b8b5",
   "metadata": {},
   "outputs": [
    {
     "data": {
      "text/html": [
       "<div>\n",
       "<style scoped>\n",
       "    .dataframe tbody tr th:only-of-type {\n",
       "        vertical-align: middle;\n",
       "    }\n",
       "\n",
       "    .dataframe tbody tr th {\n",
       "        vertical-align: top;\n",
       "    }\n",
       "\n",
       "    .dataframe thead th {\n",
       "        text-align: right;\n",
       "    }\n",
       "</style>\n",
       "<table border=\"1\" class=\"dataframe\">\n",
       "  <thead>\n",
       "    <tr style=\"text-align: right;\">\n",
       "      <th>isBestSeller</th>\n",
       "      <th>False</th>\n",
       "      <th>True</th>\n",
       "    </tr>\n",
       "    <tr>\n",
       "      <th>category</th>\n",
       "      <th></th>\n",
       "      <th></th>\n",
       "    </tr>\n",
       "  </thead>\n",
       "  <tbody>\n",
       "    <tr>\n",
       "      <th>Grocery</th>\n",
       "      <td>9008</td>\n",
       "      <td>556</td>\n",
       "    </tr>\n",
       "    <tr>\n",
       "      <th>Health &amp; Personal Care</th>\n",
       "      <td>9017</td>\n",
       "      <td>552</td>\n",
       "    </tr>\n",
       "    <tr>\n",
       "      <th>Baby</th>\n",
       "      <td>14709</td>\n",
       "      <td>341</td>\n",
       "    </tr>\n",
       "    <tr>\n",
       "      <th>Sports &amp; Outdoors</th>\n",
       "      <td>835935</td>\n",
       "      <td>330</td>\n",
       "    </tr>\n",
       "    <tr>\n",
       "      <th>Power &amp; Hand Tools</th>\n",
       "      <td>8353</td>\n",
       "      <td>306</td>\n",
       "    </tr>\n",
       "    <tr>\n",
       "      <th>...</th>\n",
       "      <td>...</td>\n",
       "      <td>...</td>\n",
       "    </tr>\n",
       "    <tr>\n",
       "      <th>Downhill Ski Boots</th>\n",
       "      <td>1284</td>\n",
       "      <td>0</td>\n",
       "    </tr>\n",
       "    <tr>\n",
       "      <th>Digital Frames</th>\n",
       "      <td>774</td>\n",
       "      <td>0</td>\n",
       "    </tr>\n",
       "    <tr>\n",
       "      <th>Motorbike Chassis</th>\n",
       "      <td>107</td>\n",
       "      <td>0</td>\n",
       "    </tr>\n",
       "    <tr>\n",
       "      <th>Motorbike Drive &amp; Gears</th>\n",
       "      <td>250</td>\n",
       "      <td>0</td>\n",
       "    </tr>\n",
       "    <tr>\n",
       "      <th>eBook Readers &amp; Accessories</th>\n",
       "      <td>246</td>\n",
       "      <td>0</td>\n",
       "    </tr>\n",
       "  </tbody>\n",
       "</table>\n",
       "<p>296 rows × 2 columns</p>\n",
       "</div>"
      ],
      "text/plain": [
       "isBestSeller                  False  True \n",
       "category                                  \n",
       "Grocery                        9008    556\n",
       "Health & Personal Care         9017    552\n",
       "Baby                          14709    341\n",
       "Sports & Outdoors            835935    330\n",
       "Power & Hand Tools             8353    306\n",
       "...                             ...    ...\n",
       "Downhill Ski Boots             1284      0\n",
       "Digital Frames                  774      0\n",
       "Motorbike Chassis               107      0\n",
       "Motorbike Drive & Gears         250      0\n",
       "eBook Readers & Accessories     246      0\n",
       "\n",
       "[296 rows x 2 columns]"
      ]
     },
     "execution_count": 5,
     "metadata": {},
     "output_type": "execute_result"
    }
   ],
   "source": [
    "crosstab_result = pd.crosstab(df['category'], df['isBestSeller']).sort_values(by=True, ascending=False)\n",
    "\n",
    "crosstab_result"
   ]
  },
  {
   "cell_type": "code",
   "execution_count": 6,
   "id": "a2b7fccc-e391-4378-8a15-41bfbc170f71",
   "metadata": {},
   "outputs": [
    {
     "data": {
      "text/plain": [
       "(36540.202700613874, 0.0)"
      ]
     },
     "execution_count": 6,
     "metadata": {},
     "output_type": "execute_result"
    }
   ],
   "source": [
    "# Conduct a Chi-square test to determine if the best-seller distribution is independent of the product category.\n",
    "chi2_statistic, chi2_p_value, _, _ = chi2_contingency(crosstab_result)\n",
    "\n",
    "chi2_statistic, chi2_p_value\n",
    "\n",
    "# in this case, the best-seller distribution is not independant of the product category, it's not random at all"
   ]
  },
  {
   "cell_type": "code",
   "execution_count": 7,
   "id": "4a63e6e1-d1f3-4b6f-825a-1a9d9e86f7e6",
   "metadata": {},
   "outputs": [
    {
     "data": {
      "text/plain": [
       "0.12228294397605641"
      ]
     },
     "execution_count": 7,
     "metadata": {},
     "output_type": "execute_result"
    }
   ],
   "source": [
    "# Computing the association between variables in 'crosstab_result' using the \"cramer\" method\n",
    "\n",
    "association(crosstab_result, method=\"cramer\")\n",
    "# weak connection between people liking one category and another"
   ]
  },
  {
   "cell_type": "code",
   "execution_count": 8,
   "id": "74cacdee-66e3-4279-930e-fbe90ee26453",
   "metadata": {},
   "outputs": [
    {
     "data": {
      "text/plain": [
       "<Axes: xlabel='category', ylabel='count'>"
      ]
     },
     "execution_count": 8,
     "metadata": {},
     "output_type": "execute_result"
    },
    {
     "data": {
      "image/png": "[encoded data removed]",
      "text/plain": [
       "<Figure size 640x480 with 1 Axes>"
      ]
     },
     "metadata": {},
     "output_type": "display_data"
    }
   ],
   "source": [
    "# Plotting a stacked bar chart for the 'crosstab_result' data\n",
    "sns.countplot(data=df, x='category', hue='isBestSeller')"
   ]
  },
  {
   "cell_type": "code",
   "execution_count": 13,
   "id": "e19dae0c-ff7d-4e20-88b0-2a42eb1ca73d",
   "metadata": {},
   "outputs": [
    {
     "data": {
      "text/plain": [
       "<Axes: xlabel='category', ylabel='price'>"
      ]
     },
     "execution_count": 13,
     "metadata": {},
     "output_type": "execute_result"
    },
    {
     "data": {
      "image/png": "[encoded data removed]",
      "text/plain": [
       "<Figure size 640x480 with 1 Axes>"
      ]
     },
     "metadata": {},
     "output_type": "display_data"
    }
   ],
   "source": [
    "def product_outliers(data):\n",
    "    Q1 = data.quantile(0.25)\n",
    "    Q3 = data.quantile(0.75)\n",
    "    IQR = Q3 - Q1\n",
    "\n",
    "  # Define bounds for the outliers\n",
    "    lower_bound = Q1 - 1.5 * IQR\n",
    "    upper_bound = Q3 + 1.5 * IQR\n",
    "\n",
    "    # Identify the outliers\n",
    "    outliers = data[(data < lower_bound) | (data > upper_bound)]\n",
    "\n",
    "    return outliers\n",
    "\n",
    "\n",
    "\n",
    "\n",
    "# Use a violin plot to visualize the distribution of price across different product categories. Filter out the top 20 categories based on count for better visualization.\n",
    "sns.violinplot(data=df, x='category', y='price')"
   ]
  },
  {
   "cell_type": "code",
   "execution_count": null,
   "id": "f4f6e524-fb25-41d2-b9ce-6c71cf7b758e",
   "metadata": {},
   "outputs": [],
   "source": [
    "sns.barplot(data=df, x='category', y='price')"
   ]
  },
  {
   "cell_type": "code",
   "execution_count": null,
   "id": "29315ca5-b5a1-4ecf-91d7-b804b6717d5b",
   "metadata": {},
   "outputs": [],
   "source": [
    "# Plotting a box plot to visualize the spread and outliers of 'SalePrice' for each 'MSZoning' category, using the \"coolwarm\" color palette\n",
    "sns.boxplot(data=df, x='category', y='stars')"
   ]
  },
  {
   "cell_type": "code",
   "execution_count": null,
   "id": "409d6390-4b4f-4427-8e7f-160d78dcbbc8",
   "metadata": {},
   "outputs": [],
   "source": [
    "# Calculating the Pearson correlation coefficient between 'Price' and 'Stars' columns\n",
    "correlation = df['price'].corr(df['stars'])\n",
    "correlation"
   ]
  },
  {
   "cell_type": "code",
   "execution_count": null,
   "id": "5f165f29-0375-4673-97bd-d2750da277e9",
   "metadata": {},
   "outputs": [],
   "source": [
    "# Calculating the Spearman rank correlation between 'price' and 'stars' \n",
    "correlation = df['price'].corr(df['stars'], method='spearman')\n",
    "correlation"
   ]
  },
  {
   "cell_type": "code",
   "execution_count": null,
   "id": "d15b5652-9929-4765-967b-b21cd687934a",
   "metadata": {},
   "outputs": [],
   "source": [
    "# Plotting a scatter plot to visualize the relationship between 'stars' and 'price'\n",
    "sns.scatterplot(data=df, x='stars', y='price')"
   ]
  },
  {
   "cell_type": "code",
   "execution_count": null,
   "id": "af23c60a-790e-47cf-a7b8-db63a1146a29",
   "metadata": {},
   "outputs": [],
   "source": [
    "correlation_matrix = df_numerical.corr()\n",
    "\n",
    "# Setting up the matplotlib figure with an appropriate size\n",
    "plt.figure(figsize=(18, 15))\n",
    "\n",
    "# Drawing the heatmap for the numerical columns\n",
    "sns.heatmap(correlation_matrix, annot=True, cmap=\"coolwarm\")\n",
    "\n",
    "plt.title(\"Correlation Heatmap for Selected Numerical Variables\")\n",
    "plt.show()"
   ]
  },
  {
   "cell_type": "code",
   "execution_count": null,
   "id": "23429831-1e0b-4418-aea2-7613f889a5de",
   "metadata": {},
   "outputs": [],
   "source": [
    "import statsmodels.api as sm\n",
    "\n",
    "# Generating a Q-Q plot for 'price' to check if its distribution follows a normal distribution\n",
    "sm.qqplot(df['price'], line='s');"
   ]
  },
  {
   "cell_type": "code",
   "execution_count": null,
   "id": "8b0ce5ac-dd36-4ef5-83e5-bd38ad4109c2",
   "metadata": {},
   "outputs": [],
   "source": []
  }
 ],
 "metadata": {
  "kernelspec": {
   "display_name": "Python 3 (ipykernel)",
   "language": "python",
   "name": "python3"
  },
  "language_info": {
   "codemirror_mode": {
    "name": "ipython",
    "version": 3
   },
   "file_extension": ".py",
   "mimetype": "text/x-python",
   "name": "python",
   "nbconvert_exporter": "python",
   "pygments_lexer": "ipython3",
   "version": "3.12.4"
  }
 },
 "nbformat": 4,
 "nbformat_minor": 5
}
